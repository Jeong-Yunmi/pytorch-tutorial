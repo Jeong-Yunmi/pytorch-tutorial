{
  "nbformat": 4,
  "nbformat_minor": 0,
  "metadata": {
    "colab": {
      "name": "Lap-03_정윤미.ipynb",
      "provenance": [],
      "collapsed_sections": [],
      "authorship_tag": "ABX9TyPDtnd/n3Efpo141mzvq43R",
      "include_colab_link": true
    },
    "kernelspec": {
      "name": "python3",
      "display_name": "Python 3"
    },
    "language_info": {
      "name": "python"
    }
  },
  "cells": [
    {
      "cell_type": "markdown",
      "metadata": {
        "id": "view-in-github",
        "colab_type": "text"
      },
      "source": [
        "<a href=\"https://colab.research.google.com/github/Jeong-Yunmi/pytorch-tutorial/blob/main/Lap_03_%EC%A0%95%EC%9C%A4%EB%AF%B8.ipynb\" target=\"_parent\"><img src=\"https://colab.research.google.com/assets/colab-badge.svg\" alt=\"Open In Colab\"/></a>"
      ]
    },
    {
      "cell_type": "code",
      "execution_count": null,
      "metadata": {
        "id": "IrgEDoPPmOIE"
      },
      "outputs": [],
      "source": [
        "import numpy as np\n",
        "import torch"
      ]
    },
    {
      "cell_type": "code",
      "source": [
        "x_train = torch.FloatTensor([[1], [2], [3]])\n",
        "y_train = torch.FloatTensor([[1], [2], [3]])\n",
        "\n",
        "W = torch.zeros(1)\n",
        "\n",
        "lr = 0.1\n",
        "\n",
        "nb_epochs = 10\n",
        "for epoch in range(nb_epochs + 1):\n",
        "  hypothesis = x_train * W\n",
        "\n",
        "  cost = torch.mean((hypothesis - y_train) ** 2)\n",
        "  gradient = torch.sum((W * x_train - y_train) * x_train)\n",
        "\n",
        "  print('Epoch {:4d}/{} W: {:.3f}, Cost: {:.6f}'.format(epoch, nb_epochs, W.item(), cost.item()))\n",
        "\n",
        "  W -= lr * gradient"
      ],
      "metadata": {
        "colab": {
          "base_uri": "https://localhost:8080/"
        },
        "id": "nQbyE0exmV4D",
        "outputId": "e1d87a7e-06ff-4c23-8bd3-62a2b9b7771b"
      },
      "execution_count": null,
      "outputs": [
        {
          "output_type": "stream",
          "name": "stdout",
          "text": [
            "Epoch    0/10 W: 0.000, Cost: 4.666667\n",
            "Epoch    1/10 W: 1.400, Cost: 0.746666\n",
            "Epoch    2/10 W: 0.840, Cost: 0.119467\n",
            "Epoch    3/10 W: 1.064, Cost: 0.019115\n",
            "Epoch    4/10 W: 0.974, Cost: 0.003058\n",
            "Epoch    5/10 W: 1.010, Cost: 0.000489\n",
            "Epoch    6/10 W: 0.996, Cost: 0.000078\n",
            "Epoch    7/10 W: 1.002, Cost: 0.000013\n",
            "Epoch    8/10 W: 0.999, Cost: 0.000002\n",
            "Epoch    9/10 W: 1.000, Cost: 0.000000\n",
            "Epoch   10/10 W: 1.000, Cost: 0.000000\n"
          ]
        }
      ]
    },
    {
      "cell_type": "code",
      "source": [
        "from torch import optim"
      ],
      "metadata": {
        "id": "Omi8NJZ1oMiQ"
      },
      "execution_count": null,
      "outputs": []
    },
    {
      "cell_type": "code",
      "source": [
        "x_train = torch.FloatTensor([[1], [2], [3]])\n",
        "y_train = torch.FloatTensor([[1], [2], [3]])\n",
        "\n",
        "W = torch.zeros(1, requires_grad=True)\n",
        "\n",
        "optimizer = optim.SGD([W], lr=0.15)\n",
        "\n",
        "nb_epochs = 10\n",
        "for epoch in range(nb_epochs + 1):\n",
        "  hypothesis = x_train * W\n",
        "\n",
        "  cost = torch.mean((hypothesis - y_train) ** 2)\n",
        "\n",
        "  print('Epoch {:4d}/{} W: {:.3f}, Cost: {:.6f}'.format(epoch, nb_epochs, W.item(), cost.item()))\n",
        "\n",
        "  optimizer.zero_grad()\n",
        "  cost.backward()\n",
        "  optimizer.step()"
      ],
      "metadata": {
        "colab": {
          "base_uri": "https://localhost:8080/"
        },
        "id": "dq36ewoqniNf",
        "outputId": "a50bb800-0f74-4a5a-8680-fec15a4b08c5"
      },
      "execution_count": null,
      "outputs": [
        {
          "output_type": "stream",
          "name": "stdout",
          "text": [
            "Epoch    0/10 W: 0.000, Cost: 4.666667\n",
            "Epoch    1/10 W: 1.400, Cost: 0.746667\n",
            "Epoch    2/10 W: 0.840, Cost: 0.119467\n",
            "Epoch    3/10 W: 1.064, Cost: 0.019115\n",
            "Epoch    4/10 W: 0.974, Cost: 0.003058\n",
            "Epoch    5/10 W: 1.010, Cost: 0.000489\n",
            "Epoch    6/10 W: 0.996, Cost: 0.000078\n",
            "Epoch    7/10 W: 1.002, Cost: 0.000013\n",
            "Epoch    8/10 W: 0.999, Cost: 0.000002\n",
            "Epoch    9/10 W: 1.000, Cost: 0.000000\n",
            "Epoch   10/10 W: 1.000, Cost: 0.000000\n"
          ]
        }
      ]
    },
    {
      "cell_type": "code",
      "source": [
        ""
      ],
      "metadata": {
        "id": "gaMzsy2IoeUo"
      },
      "execution_count": null,
      "outputs": []
    }
  ]
}
{
  "nbformat": 4,
  "nbformat_minor": 0,
  "metadata": {
    "colab": {
      "name": "Lap-04_정윤미.ipynb",
      "provenance": [],
      "collapsed_sections": [],
      "authorship_tag": "ABX9TyMxBszZdmWDbVPlmyw4Fxmn",
      "include_colab_link": true
    },
    "kernelspec": {
      "name": "python3",
      "display_name": "Python 3"
    },
    "language_info": {
      "name": "python"
    }
  },
  "cells": [
    {
      "cell_type": "markdown",
      "metadata": {
        "id": "view-in-github",
        "colab_type": "text"
      },
      "source": [
        "<a href=\"https://colab.research.google.com/github/Jeong-Yunmi/pytorch-tutorial/blob/main/Lap_04_%EC%A0%95%EC%9C%A4%EB%AF%B8.ipynb\" target=\"_parent\"><img src=\"https://colab.research.google.com/assets/colab-badge.svg\" alt=\"Open In Colab\"/></a>"
      ]
    },
    {
      "cell_type": "code",
      "execution_count": null,
      "metadata": {
        "colab": {
          "base_uri": "https://localhost:8080/"
        },
        "id": "sJAVg9Y0o0EP",
        "outputId": "37863893-2c7a-4223-e132-eb194e9b57fe"
      },
      "outputs": [
        {
          "output_type": "execute_result",
          "data": {
            "text/plain": [
              "<torch._C.Generator at 0x7f7f70b69770>"
            ]
          },
          "metadata": {},
          "execution_count": 17
        }
      ],
      "source": [
        "import torch\n",
        "import torch.nn as nn\n",
        "import torch.nn.functional as F\n",
        "import torch.optim as optim\n",
        "\n",
        "torch.manual_seed(1)"
      ]
    },
    {
      "cell_type": "code",
      "source": [
        "x_train = torch.FloatTensor([[73, 80, 75],\n",
        "                             [93, 88, 93],\n",
        "                             [89, 91, 90],\n",
        "                             [96, 98, 100],\n",
        "                             [73, 66, 70]])\n",
        "y_train = torch.FloatTensor([[152], [185], [180], [196], [142]])\n",
        "\n",
        "W = torch.zeros((1, 1), requires_grad=True)\n",
        "b = torch.zeros(1, requires_grad=True)\n",
        "\n",
        "optimizer = optim.SGD([W, b], lr=1e-5)"
      ],
      "metadata": {
        "id": "Z7inX4dCo1lb"
      },
      "execution_count": null,
      "outputs": []
    },
    {
      "cell_type": "code",
      "source": [
        "\n",
        "\n",
        "\n",
        "nb_epochs = 20\n",
        "for epoch in range(nb_epochs + 1):\n",
        "  hypothesis = y_train.matmul(W) + b\n",
        "\n",
        "  cost = torch.mean((hypothesis - y_train) ** 2)\n",
        "\n",
        "  optimizer.zero_grad()\n",
        "  cost.backward()\n",
        "  optimizer.step()\n",
        "\n",
        "  print('Epoch {:4d}/{} hypothesis: {} Cost: {:.6f}'.format(\n",
        "      epoch, nb_epochs, hypothesis.squeeze().detach(),\n",
        "      cost.item()\n",
        "  ))"
      ],
      "metadata": {
        "colab": {
          "base_uri": "https://localhost:8080/"
        },
        "id": "pptAhMjMpvvc",
        "outputId": "bc0dd873-aaa9-4aa9-d6f6-eb81741bdc20"
      },
      "execution_count": null,
      "outputs": [
        {
          "output_type": "stream",
          "name": "stdout",
          "text": [
            "Epoch    0/20 hypothesis: tensor([152.0007, 184.9996, 179.9998, 195.9993, 142.0010]) Cost: 0.000000\n",
            "Epoch    1/20 hypothesis: tensor([152.0007, 184.9996, 179.9998, 195.9993, 142.0010]) Cost: 0.000000\n",
            "Epoch    2/20 hypothesis: tensor([152.0007, 184.9996, 179.9998, 195.9993, 142.0010]) Cost: 0.000000\n",
            "Epoch    3/20 hypothesis: tensor([152.0007, 184.9996, 179.9998, 195.9993, 142.0010]) Cost: 0.000000\n",
            "Epoch    4/20 hypothesis: tensor([152.0007, 184.9996, 179.9998, 195.9993, 142.0010]) Cost: 0.000000\n",
            "Epoch    5/20 hypothesis: tensor([152.0007, 184.9996, 179.9998, 195.9993, 142.0010]) Cost: 0.000000\n",
            "Epoch    6/20 hypothesis: tensor([152.0007, 184.9996, 179.9998, 195.9993, 142.0010]) Cost: 0.000000\n",
            "Epoch    7/20 hypothesis: tensor([152.0007, 184.9996, 179.9998, 195.9993, 142.0010]) Cost: 0.000000\n",
            "Epoch    8/20 hypothesis: tensor([152.0007, 184.9996, 179.9998, 195.9993, 142.0010]) Cost: 0.000000\n",
            "Epoch    9/20 hypothesis: tensor([152.0007, 184.9996, 179.9998, 195.9993, 142.0010]) Cost: 0.000000\n",
            "Epoch   10/20 hypothesis: tensor([152.0007, 184.9996, 179.9998, 195.9993, 142.0010]) Cost: 0.000000\n",
            "Epoch   11/20 hypothesis: tensor([152.0007, 184.9996, 179.9998, 195.9993, 142.0010]) Cost: 0.000000\n",
            "Epoch   12/20 hypothesis: tensor([152.0007, 184.9996, 179.9998, 195.9993, 142.0010]) Cost: 0.000000\n",
            "Epoch   13/20 hypothesis: tensor([152.0007, 184.9996, 179.9998, 195.9993, 142.0010]) Cost: 0.000000\n",
            "Epoch   14/20 hypothesis: tensor([152.0007, 184.9996, 179.9998, 195.9993, 142.0010]) Cost: 0.000000\n",
            "Epoch   15/20 hypothesis: tensor([152.0007, 184.9996, 179.9998, 195.9993, 142.0010]) Cost: 0.000000\n",
            "Epoch   16/20 hypothesis: tensor([152.0007, 184.9996, 179.9998, 195.9993, 142.0010]) Cost: 0.000000\n",
            "Epoch   17/20 hypothesis: tensor([152.0007, 184.9996, 179.9998, 195.9993, 142.0010]) Cost: 0.000000\n",
            "Epoch   18/20 hypothesis: tensor([152.0007, 184.9996, 179.9998, 195.9993, 142.0010]) Cost: 0.000000\n",
            "Epoch   19/20 hypothesis: tensor([152.0007, 184.9996, 179.9998, 195.9993, 142.0010]) Cost: 0.000000\n",
            "Epoch   20/20 hypothesis: tensor([152.0007, 184.9996, 179.9998, 195.9993, 142.0010]) Cost: 0.000000\n"
          ]
        }
      ]
    },
    {
      "cell_type": "code",
      "source": [
        "from torch.utils.data import Dataset\n",
        "\n",
        "class CustomDataset(Dataset):\n",
        "  def __init__(self):\n",
        "    self.x_data = [[73, 80, 75],\n",
        "                   [93, 88, 93],\n",
        "                   [89, 91, 90],\n",
        "                   [96, 98, 100],\n",
        "                   [73, 66, 70]]\n",
        "    self.y_data = [[152], [185], [180], [196], [142]]\n",
        "\n",
        "  def __len__(self):\n",
        "    return len(self.x_data)\n",
        "\n",
        "  def __getitem__(self, idx):\n",
        "    x = torch.FloatTensor(self.x_data[idx])\n",
        "    y = torch.FloatTensor(self.y_data[idx])\n",
        "\n",
        "    return x, y\n",
        "\n",
        "dataset = CustomDataset()"
      ],
      "metadata": {
        "id": "gA15ptVxpq5Z"
      },
      "execution_count": null,
      "outputs": []
    },
    {
      "cell_type": "code",
      "source": [
        "from torch.utils.data import DataLoader\n",
        "\n",
        "dataloader = DataLoader(\n",
        "    dataset,\n",
        "    batch_size = 2,\n",
        "    shuffle=True\n",
        ")"
      ],
      "metadata": {
        "id": "NuwA_dCNr5NB"
      },
      "execution_count": null,
      "outputs": []
    },
    {
      "cell_type": "code",
      "source": [
        "nb_epochs = 20\n",
        "for epoch in range(nb_epochs + 1):\n",
        "  for batch_idx, samples in enumerate(dataloader):\n",
        "    x_train, y_train = samples\n",
        "\n",
        "    prediction = model(x_train)\n",
        "\n",
        "    cost = F.mse_loss(prediction, y_train)\n",
        "\n",
        "    optimizer.zero_grad()\n",
        "    cost.backward()\n",
        "    optimizer.step()\n",
        "  \n",
        "  print('Epoch {:4d}/{} Batch: {}/{} Cost: {:.6f}'.format(\n",
        "      epoch, nb_epochs, batch_idx+1, len(dataloader),\n",
        "      cost.item()\n",
        "  ))"
      ],
      "metadata": {
        "colab": {
          "base_uri": "https://localhost:8080/",
          "height": 248
        },
        "id": "2RwsJcxptihG",
        "outputId": "37afac6d-af0e-473f-b00d-61e54aab56c2"
      },
      "execution_count": null,
      "outputs": [
        {
          "output_type": "error",
          "ename": "NameError",
          "evalue": "ignored",
          "traceback": [
            "\u001b[0;31m---------------------------------------------------------------------------\u001b[0m",
            "\u001b[0;31mNameError\u001b[0m                                 Traceback (most recent call last)",
            "\u001b[0;32m<ipython-input-18-3f41d760510d>\u001b[0m in \u001b[0;36m<module>\u001b[0;34m()\u001b[0m\n\u001b[1;32m      4\u001b[0m     \u001b[0mx_train\u001b[0m\u001b[0;34m,\u001b[0m \u001b[0my_train\u001b[0m \u001b[0;34m=\u001b[0m \u001b[0msamples\u001b[0m\u001b[0;34m\u001b[0m\u001b[0;34m\u001b[0m\u001b[0m\n\u001b[1;32m      5\u001b[0m \u001b[0;34m\u001b[0m\u001b[0m\n\u001b[0;32m----> 6\u001b[0;31m     \u001b[0mprediction\u001b[0m \u001b[0;34m=\u001b[0m \u001b[0mmodel\u001b[0m\u001b[0;34m(\u001b[0m\u001b[0mx_train\u001b[0m\u001b[0;34m)\u001b[0m\u001b[0;34m\u001b[0m\u001b[0;34m\u001b[0m\u001b[0m\n\u001b[0m\u001b[1;32m      7\u001b[0m \u001b[0;34m\u001b[0m\u001b[0m\n\u001b[1;32m      8\u001b[0m     \u001b[0mcost\u001b[0m \u001b[0;34m=\u001b[0m \u001b[0mF\u001b[0m\u001b[0;34m.\u001b[0m\u001b[0mmse_loss\u001b[0m\u001b[0;34m(\u001b[0m\u001b[0mprediction\u001b[0m\u001b[0;34m,\u001b[0m \u001b[0my_train\u001b[0m\u001b[0;34m)\u001b[0m\u001b[0;34m\u001b[0m\u001b[0;34m\u001b[0m\u001b[0m\n",
            "\u001b[0;31mNameError\u001b[0m: name 'model' is not defined"
          ]
        }
      ]
    },
    {
      "cell_type": "code",
      "source": [
        ""
      ],
      "metadata": {
        "id": "GEkjKdlpuP3N"
      },
      "execution_count": null,
      "outputs": []
    }
  ]
}
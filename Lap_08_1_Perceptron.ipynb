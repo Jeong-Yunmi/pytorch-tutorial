{
  "nbformat": 4,
  "nbformat_minor": 0,
  "metadata": {
    "colab": {
      "name": "Lap-08-1 Perceptron.ipynb",
      "provenance": [],
      "collapsed_sections": [],
      "authorship_tag": "ABX9TyPn+nGKbyi4JOjhORzkKqpa",
      "include_colab_link": true
    },
    "kernelspec": {
      "name": "python3",
      "display_name": "Python 3"
    },
    "language_info": {
      "name": "python"
    }
  },
  "cells": [
    {
      "cell_type": "markdown",
      "metadata": {
        "id": "view-in-github",
        "colab_type": "text"
      },
      "source": [
        "<a href=\"https://colab.research.google.com/github/Jeong-Yunmi/pytorch-tutorial/blob/main/Lap_08_1_Perceptron.ipynb\" target=\"_parent\"><img src=\"https://colab.research.google.com/assets/colab-badge.svg\" alt=\"Open In Colab\"/></a>"
      ]
    },
    {
      "cell_type": "code",
      "execution_count": 1,
      "metadata": {
        "id": "qyaK8mxMAxdM"
      },
      "outputs": [],
      "source": [
        "import torch"
      ]
    },
    {
      "cell_type": "code",
      "source": [
        "device = 'cuda' if torch.cuda.is_available() else 'cpu'\n",
        "\n",
        "torch.manual_seed(777)\n",
        "if device == 'cuda':\n",
        "  torch.cuda.manual_seed_all(777)"
      ],
      "metadata": {
        "id": "46kUhxreA2Sj"
      },
      "execution_count": 3,
      "outputs": []
    },
    {
      "cell_type": "code",
      "source": [
        "X = torch.FloatTensor([[0, 0], [0, 1], [1, 0], [1, 1]]).to(device)\n",
        "Y = torch.FloatTensor([[0], [1], [1], [0]]).to(device)"
      ],
      "metadata": {
        "id": "ISZqUBgnBCQt"
      },
      "execution_count": 4,
      "outputs": []
    },
    {
      "cell_type": "code",
      "source": [
        "def train(model, optimizer, criterion):\n",
        "    for step in range(10001):\n",
        "        hypothesis = model(X)\n",
        "\n",
        "        cost = criterion(hypothesis, Y)\n",
        "\n",
        "        optimizer.zero_grad()\n",
        "        cost.backward()\n",
        "        optimizer.step()\n",
        "\n",
        "        if step % 1000 == 0:\n",
        "            print(f'Step : {step}, Cost : {cost.item():.6f}')"
      ],
      "metadata": {
        "id": "NML95A_hBQiq"
      },
      "execution_count": 6,
      "outputs": []
    },
    {
      "cell_type": "code",
      "source": [
        "def compute_accuracy(model, X, Y):\n",
        "    with torch.no_grad():\n",
        "        hypothesis = model(X)\n",
        "        predicted = (hypothesis > 0.5).float()\n",
        "        accuracy = (predicted == Y).float().mean()\n",
        "        print(\n",
        "            'Hypothesis:\\n', hypothesis.detach().cpu().numpy(), \n",
        "            '\\nPredict:\\n', predicted.detach().cpu().numpy(),\n",
        "            '\\nGround Truth:\\n', Y.cpu().numpy(),\n",
        "            '\\nAccuracy:\\n', accuracy.item()\n",
        "            )"
      ],
      "metadata": {
        "id": "rReQM3AGBR1m"
      },
      "execution_count": 7,
      "outputs": []
    },
    {
      "cell_type": "code",
      "source": [
        "linear = torch.nn.Linear(2, 1, bias=True)\n",
        "sigmoid = torch.nn.Sigmoid()\n",
        "\n",
        "model = torch.nn.Sequential(linear, sigmoid).to(device)\n",
        "\n",
        "criterion = torch.nn.BCELoss().to(device)\n",
        "optimizer = torch.optim.SGD(model.parameters(), lr=1)"
      ],
      "metadata": {
        "id": "DqS2Z6MbBUOB"
      },
      "execution_count": 9,
      "outputs": []
    },
    {
      "cell_type": "code",
      "source": [
        "train(model, optimizer, criterion)"
      ],
      "metadata": {
        "colab": {
          "base_uri": "https://localhost:8080/"
        },
        "id": "i8iqYYvABWCK",
        "outputId": "06dcb1c0-5127-42af-8ec2-42610e9fdf4a"
      },
      "execution_count": 10,
      "outputs": [
        {
          "output_type": "stream",
          "name": "stdout",
          "text": [
            "Step : 0, Cost : 0.766642\n",
            "Step : 1000, Cost : 0.693147\n",
            "Step : 2000, Cost : 0.693147\n",
            "Step : 3000, Cost : 0.693147\n",
            "Step : 4000, Cost : 0.693147\n",
            "Step : 5000, Cost : 0.693147\n",
            "Step : 6000, Cost : 0.693147\n",
            "Step : 7000, Cost : 0.693147\n",
            "Step : 8000, Cost : 0.693147\n",
            "Step : 9000, Cost : 0.693147\n",
            "Step : 10000, Cost : 0.693147\n"
          ]
        }
      ]
    },
    {
      "cell_type": "code",
      "source": [
        "compute_accuracy(model, X, Y)"
      ],
      "metadata": {
        "colab": {
          "base_uri": "https://localhost:8080/"
        },
        "id": "onG4GLMrBZ09",
        "outputId": "286674e6-5eba-41f4-8b6e-f16fb55121c3"
      },
      "execution_count": 11,
      "outputs": [
        {
          "output_type": "stream",
          "name": "stdout",
          "text": [
            "Hypothesis:\n",
            " [[0.5]\n",
            " [0.5]\n",
            " [0.5]\n",
            " [0.5]] \n",
            "Predict:\n",
            " [[0.]\n",
            " [0.]\n",
            " [0.]\n",
            " [0.]] \n",
            "Ground Truth:\n",
            " [[0.]\n",
            " [1.]\n",
            " [1.]\n",
            " [0.]] \n",
            "Accuracy:\n",
            " 0.5\n"
          ]
        }
      ]
    },
    {
      "cell_type": "code",
      "source": [
        "linear1 = torch.nn.Linear(2, 2, bias=True)\n",
        "linear2 = torch.nn.Linear(2, 1, bias=True)\n",
        "sigmoid = torch.nn.Sigmoid()\n",
        "\n",
        "model2 = torch.nn.Sequential(linear1, sigmoid, linear2, sigmoid).to(device)\n",
        "\n",
        "criterion = torch.nn.BCELoss().to(device)\n",
        "optimizer = torch.optim.SGD(model2.parameters(), lr=1)"
      ],
      "metadata": {
        "id": "RycF7stMBbeO"
      },
      "execution_count": 12,
      "outputs": []
    },
    {
      "cell_type": "code",
      "source": [
        "train(model2, optimizer, criterion)"
      ],
      "metadata": {
        "colab": {
          "base_uri": "https://localhost:8080/"
        },
        "id": "oHWutSOhBekv",
        "outputId": "c4c351ad-2855-4216-e682-5d981025b5cf"
      },
      "execution_count": 13,
      "outputs": [
        {
          "output_type": "stream",
          "name": "stdout",
          "text": [
            "Step : 0, Cost : 0.696631\n",
            "Step : 1000, Cost : 0.693132\n",
            "Step : 2000, Cost : 0.692953\n",
            "Step : 3000, Cost : 0.101294\n",
            "Step : 4000, Cost : 0.015544\n",
            "Step : 5000, Cost : 0.008253\n",
            "Step : 6000, Cost : 0.005600\n",
            "Step : 7000, Cost : 0.004233\n",
            "Step : 8000, Cost : 0.003401\n",
            "Step : 9000, Cost : 0.002841\n",
            "Step : 10000, Cost : 0.002439\n"
          ]
        }
      ]
    },
    {
      "cell_type": "code",
      "source": [
        "compute_accuracy(model2, X, Y)"
      ],
      "metadata": {
        "colab": {
          "base_uri": "https://localhost:8080/"
        },
        "id": "lvGQj67xBf6q",
        "outputId": "5fc59abc-51ea-4d47-9832-8740cfb1fe76"
      },
      "execution_count": 14,
      "outputs": [
        {
          "output_type": "stream",
          "name": "stdout",
          "text": [
            "Hypothesis:\n",
            " [[0.00212983]\n",
            " [0.99716175]\n",
            " [0.9971456 ]\n",
            " [0.00192105]] \n",
            "Predict:\n",
            " [[0.]\n",
            " [1.]\n",
            " [1.]\n",
            " [0.]] \n",
            "Ground Truth:\n",
            " [[0.]\n",
            " [1.]\n",
            " [1.]\n",
            " [0.]] \n",
            "Accuracy:\n",
            " 1.0\n"
          ]
        }
      ]
    },
    {
      "cell_type": "code",
      "source": [
        "linear1 = torch.nn.Linear(2, 10, bias=True)\n",
        "linear2 = torch.nn.Linear(10, 10, bias=True)\n",
        "linear3 = torch.nn.Linear(10, 10, bias=True)\n",
        "linear4 = torch.nn.Linear(10, 1, bias=True)\n",
        "sigmoid = torch.nn.Sigmoid()\n",
        "\n",
        "model3 = torch.nn.Sequential(linear1, sigmoid, linear2, sigmoid, linear3, sigmoid, linear4, sigmoid).to(device)\n",
        "\n",
        "criterion = torch.nn.BCELoss().to(device)\n",
        "optimizer = torch.optim.SGD(model3.parameters(), lr=1)"
      ],
      "metadata": {
        "id": "HFCMmRlmBiEI"
      },
      "execution_count": 16,
      "outputs": []
    },
    {
      "cell_type": "code",
      "source": [
        "train(model3, optimizer, criterion)"
      ],
      "metadata": {
        "colab": {
          "base_uri": "https://localhost:8080/"
        },
        "id": "JADxTM_TBnKS",
        "outputId": "233f12bf-e8ef-4c61-f755-cc6585e48317"
      },
      "execution_count": 18,
      "outputs": [
        {
          "output_type": "stream",
          "name": "stdout",
          "text": [
            "Step : 0, Cost : 0.000141\n",
            "Step : 1000, Cost : 0.000118\n",
            "Step : 2000, Cost : 0.000101\n",
            "Step : 3000, Cost : 0.000088\n",
            "Step : 4000, Cost : 0.000079\n",
            "Step : 5000, Cost : 0.000071\n",
            "Step : 6000, Cost : 0.000064\n",
            "Step : 7000, Cost : 0.000059\n",
            "Step : 8000, Cost : 0.000054\n",
            "Step : 9000, Cost : 0.000050\n",
            "Step : 10000, Cost : 0.000047\n"
          ]
        }
      ]
    },
    {
      "cell_type": "code",
      "source": [
        "compute_accuracy(model, X, Y)"
      ],
      "metadata": {
        "colab": {
          "base_uri": "https://localhost:8080/"
        },
        "id": "0g5a5jF6Bpjq",
        "outputId": "3b78d408-ad66-4321-9fe7-474a16b3d38b"
      },
      "execution_count": 19,
      "outputs": [
        {
          "output_type": "stream",
          "name": "stdout",
          "text": [
            "Hypothesis:\n",
            " [[0.5]\n",
            " [0.5]\n",
            " [0.5]\n",
            " [0.5]] \n",
            "Predict:\n",
            " [[0.]\n",
            " [0.]\n",
            " [0.]\n",
            " [0.]] \n",
            "Ground Truth:\n",
            " [[0.]\n",
            " [1.]\n",
            " [1.]\n",
            " [0.]] \n",
            "Accuracy:\n",
            " 0.5\n"
          ]
        }
      ]
    }
  ]
}
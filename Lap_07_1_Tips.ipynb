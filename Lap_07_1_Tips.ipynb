{
  "nbformat": 4,
  "nbformat_minor": 0,
  "metadata": {
    "colab": {
      "name": "Lap-07-1 Tips.ipynb",
      "provenance": [],
      "collapsed_sections": [],
      "authorship_tag": "ABX9TyM9tDbm5Rw9sUUaHj87H5FY",
      "include_colab_link": true
    },
    "kernelspec": {
      "name": "python3",
      "display_name": "Python 3"
    },
    "language_info": {
      "name": "python"
    }
  },
  "cells": [
    {
      "cell_type": "markdown",
      "metadata": {
        "id": "view-in-github",
        "colab_type": "text"
      },
      "source": [
        "<a href=\"https://colab.research.google.com/github/Jeong-Yunmi/pytorch-tutorial/blob/main/Lap_07_1_Tips.ipynb\" target=\"_parent\"><img src=\"https://colab.research.google.com/assets/colab-badge.svg\" alt=\"Open In Colab\"/></a>"
      ]
    },
    {
      "cell_type": "code",
      "execution_count": 2,
      "metadata": {
        "colab": {
          "base_uri": "https://localhost:8080/"
        },
        "id": "T7qPEMCr-bOV",
        "outputId": "74c9a29f-0abd-467a-9b08-a861fda0ff2e"
      },
      "outputs": [
        {
          "output_type": "execute_result",
          "data": {
            "text/plain": [
              "<torch._C.Generator at 0x7f2932ad2910>"
            ]
          },
          "metadata": {},
          "execution_count": 2
        }
      ],
      "source": [
        "import torch\n",
        "import torch.nn as nn\n",
        "import torch.nn.functional as F\n",
        "import torch.optim as optim\n",
        "\n",
        "\n",
        "\n",
        "\n",
        "torch.manual_seed(1)"
      ]
    },
    {
      "cell_type": "code",
      "source": [
        "x_train = torch.FloatTensor([[1, 2, 1],\n",
        "                             [1, 3, 2],\n",
        "                             [1, 3, 4],\n",
        "                             [1, 5, 5],\n",
        "                             [1, 7, 5],\n",
        "                             [1, 2, 5],\n",
        "                             [1, 6, 6],\n",
        "                             [1, 7, 7]\n",
        "                            ])\n",
        "y_train = torch.LongTensor([2, 2, 2, 1, 1, 1, 0, 0])"
      ],
      "metadata": {
        "id": "wJswJteB-cjN"
      },
      "execution_count": 3,
      "outputs": []
    },
    {
      "cell_type": "code",
      "source": [
        "x_test = torch.FloatTensor([[2, 1, 1], [3, 1, 2], [3, 3, 4]])\n",
        "y_test = torch.LongTensor([2, 2, 2])"
      ],
      "metadata": {
        "id": "P7mjZBhn-pbg"
      },
      "execution_count": 4,
      "outputs": []
    },
    {
      "cell_type": "code",
      "source": [
        "class SoftmaxClassifierModel(nn.Module):\n",
        "    def __init__(self):\n",
        "        super().__init__()\n",
        "        self.linear = nn.Linear(3, 3)\n",
        "    def forward(self, x):\n",
        "        return self.linear(x)"
      ],
      "metadata": {
        "id": "4R_3tV4e-qpD"
      },
      "execution_count": 6,
      "outputs": []
    },
    {
      "cell_type": "code",
      "source": [
        "model = SoftmaxClassifierModel()\n",
        "optimizer = optim.SGD(model.parameters(), lr=0.1)"
      ],
      "metadata": {
        "id": "u4LktFxY-r-k"
      },
      "execution_count": 7,
      "outputs": []
    },
    {
      "cell_type": "code",
      "source": [
        "def train(model, optimizer, x_train, y_train, loss_func='CE', regularization=False):\n",
        "    nb_epochs = 20\n",
        "    for epoch in range(nb_epochs):\n",
        "\n",
        "        prediction = model(x_train)\n",
        "\n",
        "        if loss_func == 'CE':\n",
        "            cost = F.cross_entropy(prediction, y_train)\n",
        "        elif loss_func == 'MSE':\n",
        "            cost = F.mse_loss(prediction, y_train)\n",
        "\n",
        "        if regularization:\n",
        "            l2_reg = 0\n",
        "            for param in model.parameters():\n",
        "                l2_reg += torch.norm(param)\n",
        "                \n",
        "            cost += l2_reg\n",
        "\n",
        "        optimizer.zero_grad()\n",
        "        cost.backward()\n",
        "        optimizer.step()\n",
        "\n",
        "        print('Epoch {:4d}/{} Cost: {:.6f}'.format(\n",
        "            epoch, nb_epochs, cost.item()\n",
        "        ))"
      ],
      "metadata": {
        "id": "_VMImXic-t56"
      },
      "execution_count": 12,
      "outputs": []
    },
    {
      "cell_type": "code",
      "source": [
        "def test(model, optimizer, x_test, y_test, loss_func='CE'):\n",
        "    prediction = model(x_test)\n",
        "    predicted_classes = prediction.max(1)[1]\n",
        "    correct_count = (predicted_classes == y_test).sum().item()\n",
        "\n",
        "    if loss_func == 'CE':\n",
        "        cost = F.cross_entropy(prediction, y_test)\n",
        "    elif loss_func == 'MSE':\n",
        "        cost = F.mse_loss(prediction, y_test)\n",
        "\n",
        "    print('Accuracy: {}% Cost: {:.6f}'.format(\n",
        "         correct_count / len(y_test) * 100, cost.item()\n",
        "    ))"
      ],
      "metadata": {
        "id": "zT9pyH5R-0Uv"
      },
      "execution_count": 13,
      "outputs": []
    },
    {
      "cell_type": "code",
      "source": [
        "train(model, optimizer, x_train, y_train, loss_func='CE')"
      ],
      "metadata": {
        "colab": {
          "base_uri": "https://localhost:8080/"
        },
        "id": "X-2uG6Kw-3wi",
        "outputId": "ea5b463c-6c68-4bbd-c92d-9dd96272b8d1"
      },
      "execution_count": 14,
      "outputs": [
        {
          "output_type": "stream",
          "name": "stdout",
          "text": [
            "Epoch    0/20 Cost: 2.203667\n",
            "Epoch    1/20 Cost: 1.199645\n",
            "Epoch    2/20 Cost: 1.142985\n",
            "Epoch    3/20 Cost: 1.117769\n",
            "Epoch    4/20 Cost: 1.100901\n",
            "Epoch    5/20 Cost: 1.089523\n",
            "Epoch    6/20 Cost: 1.079872\n",
            "Epoch    7/20 Cost: 1.071320\n",
            "Epoch    8/20 Cost: 1.063325\n",
            "Epoch    9/20 Cost: 1.055720\n",
            "Epoch   10/20 Cost: 1.048378\n",
            "Epoch   11/20 Cost: 1.041245\n",
            "Epoch   12/20 Cost: 1.034285\n",
            "Epoch   13/20 Cost: 1.027478\n",
            "Epoch   14/20 Cost: 1.020813\n",
            "Epoch   15/20 Cost: 1.014279\n",
            "Epoch   16/20 Cost: 1.007872\n",
            "Epoch   17/20 Cost: 1.001586\n",
            "Epoch   18/20 Cost: 0.995419\n",
            "Epoch   19/20 Cost: 0.989365\n"
          ]
        }
      ]
    },
    {
      "cell_type": "code",
      "source": [
        "test(model, optimizer, x_test, y_test, loss_func='CE')"
      ],
      "metadata": {
        "colab": {
          "base_uri": "https://localhost:8080/"
        },
        "id": "jSdF-8SF-5Wd",
        "outputId": "a8b26256-0adb-4d4d-f944-977ec41c38d4"
      },
      "execution_count": 15,
      "outputs": [
        {
          "output_type": "stream",
          "name": "stdout",
          "text": [
            "Accuracy: 0.0% Cost: 1.425844\n"
          ]
        }
      ]
    },
    {
      "cell_type": "code",
      "source": [
        "model = SoftmaxClassifierModel()\n",
        "optimizer = optim.SGD(model.parameters(), lr=1e5)"
      ],
      "metadata": {
        "id": "hM8RSgOI-7Lq"
      },
      "execution_count": 16,
      "outputs": []
    },
    {
      "cell_type": "code",
      "source": [
        "train(model, optimizer, x_train, y_train, loss_func='CE')"
      ],
      "metadata": {
        "colab": {
          "base_uri": "https://localhost:8080/"
        },
        "id": "p2la0_Az-8kR",
        "outputId": "08072671-926c-434a-cdd4-1fa87c9a1d0f"
      },
      "execution_count": 17,
      "outputs": [
        {
          "output_type": "stream",
          "name": "stdout",
          "text": [
            "Epoch    0/20 Cost: 1.280268\n",
            "Epoch    1/20 Cost: 976950.750000\n",
            "Epoch    2/20 Cost: 1279135.250000\n",
            "Epoch    3/20 Cost: 1198378.875000\n",
            "Epoch    4/20 Cost: 1098825.750000\n",
            "Epoch    5/20 Cost: 1968197.750000\n",
            "Epoch    6/20 Cost: 284763.250000\n",
            "Epoch    7/20 Cost: 1532260.250000\n",
            "Epoch    8/20 Cost: 1651503.750000\n",
            "Epoch    9/20 Cost: 521878.593750\n",
            "Epoch   10/20 Cost: 1397263.250000\n",
            "Epoch   11/20 Cost: 750986.375000\n",
            "Epoch   12/20 Cost: 918691.375000\n",
            "Epoch   13/20 Cost: 1487888.250000\n",
            "Epoch   14/20 Cost: 1582260.250000\n",
            "Epoch   15/20 Cost: 685818.125000\n",
            "Epoch   16/20 Cost: 1140048.875000\n",
            "Epoch   17/20 Cost: 940566.375000\n",
            "Epoch   18/20 Cost: 931638.250000\n",
            "Epoch   19/20 Cost: 1971322.750000\n"
          ]
        }
      ]
    },
    {
      "cell_type": "code",
      "source": [
        "model = SoftmaxClassifierModel()\n",
        "optimizer = optim.SGD(model.parameters(), lr=1e-10)"
      ],
      "metadata": {
        "id": "H1_mXfXP-9dL"
      },
      "execution_count": 18,
      "outputs": []
    },
    {
      "cell_type": "code",
      "source": [
        "train(model, optimizer, x_train, y_train, loss_func='CE')"
      ],
      "metadata": {
        "colab": {
          "base_uri": "https://localhost:8080/"
        },
        "id": "5uCn6RGZ-_AG",
        "outputId": "29cb91c5-e59a-4890-da49-db9e111dd6ff"
      },
      "execution_count": 19,
      "outputs": [
        {
          "output_type": "stream",
          "name": "stdout",
          "text": [
            "Epoch    0/20 Cost: 3.187324\n",
            "Epoch    1/20 Cost: 3.187324\n",
            "Epoch    2/20 Cost: 3.187324\n",
            "Epoch    3/20 Cost: 3.187324\n",
            "Epoch    4/20 Cost: 3.187324\n",
            "Epoch    5/20 Cost: 3.187324\n",
            "Epoch    6/20 Cost: 3.187324\n",
            "Epoch    7/20 Cost: 3.187324\n",
            "Epoch    8/20 Cost: 3.187324\n",
            "Epoch    9/20 Cost: 3.187324\n",
            "Epoch   10/20 Cost: 3.187324\n",
            "Epoch   11/20 Cost: 3.187324\n",
            "Epoch   12/20 Cost: 3.187324\n",
            "Epoch   13/20 Cost: 3.187324\n",
            "Epoch   14/20 Cost: 3.187324\n",
            "Epoch   15/20 Cost: 3.187324\n",
            "Epoch   16/20 Cost: 3.187324\n",
            "Epoch   17/20 Cost: 3.187324\n",
            "Epoch   18/20 Cost: 3.187324\n",
            "Epoch   19/20 Cost: 3.187324\n"
          ]
        }
      ]
    },
    {
      "cell_type": "code",
      "source": [
        "x_train = torch.FloatTensor([[73, 80, 75],\n",
        "                             [93, 88, 93],\n",
        "                             [89, 91, 90],\n",
        "                             [96, 98, 100],\n",
        "                             [73, 66, 70]])\n",
        "y_train = torch.FloatTensor([[152], [185], [180], [196], [142]])"
      ],
      "metadata": {
        "id": "s-o__gCn_Arx"
      },
      "execution_count": 20,
      "outputs": []
    },
    {
      "cell_type": "code",
      "source": [
        "mu = x_train.mean(dim=0)\n",
        "sigma = x_train.std(dim=0)\n",
        "norm_x_train = (x_train - mu) / sigma\n",
        "print(norm_x_train)"
      ],
      "metadata": {
        "colab": {
          "base_uri": "https://localhost:8080/"
        },
        "id": "hWW_aNSW_CIU",
        "outputId": "a9a22cf9-596c-484f-84fa-508926e656f2"
      },
      "execution_count": 21,
      "outputs": [
        {
          "output_type": "stream",
          "name": "stdout",
          "text": [
            "tensor([[-1.0674, -0.3758, -0.8398],\n",
            "        [ 0.7418,  0.2778,  0.5863],\n",
            "        [ 0.3799,  0.5229,  0.3486],\n",
            "        [ 1.0132,  1.0948,  1.1409],\n",
            "        [-1.0674, -1.5197, -1.2360]])\n"
          ]
        }
      ]
    },
    {
      "cell_type": "code",
      "source": [
        "class MultivariateLinearRegressionModel(nn.Module):\n",
        "    def __init__(self):\n",
        "        super().__init__()\n",
        "        self.linear = nn.Linear(3, 1)\n",
        "\n",
        "\n",
        "    def forward(self, x):\n",
        "        return self.linear(x)"
      ],
      "metadata": {
        "id": "ZmHDWpbC_Dah"
      },
      "execution_count": 24,
      "outputs": []
    },
    {
      "cell_type": "code",
      "source": [
        "model = MultivariateLinearRegressionModel()\n",
        "optimizer = optim.SGD(model.parameters(), lr=1e-1)"
      ],
      "metadata": {
        "id": "-xPy0_fh_Exf"
      },
      "execution_count": 25,
      "outputs": []
    },
    {
      "cell_type": "code",
      "source": [
        "train(model, optimizer, norm_x_train, y_train, loss_func=\"MSE\")"
      ],
      "metadata": {
        "colab": {
          "base_uri": "https://localhost:8080/"
        },
        "id": "CHbksETs_HSn",
        "outputId": "554c5328-995c-4302-9f0b-1128291c4452"
      },
      "execution_count": 26,
      "outputs": [
        {
          "output_type": "stream",
          "name": "stdout",
          "text": [
            "Epoch    0/20 Cost: 29729.949219\n",
            "Epoch    1/20 Cost: 18889.082031\n",
            "Epoch    2/20 Cost: 12048.976562\n",
            "Epoch    3/20 Cost: 7699.844727\n",
            "Epoch    4/20 Cost: 4924.701660\n",
            "Epoch    5/20 Cost: 3151.021240\n",
            "Epoch    6/20 Cost: 2016.563110\n",
            "Epoch    7/20 Cost: 1290.709229\n",
            "Epoch    8/20 Cost: 826.215942\n",
            "Epoch    9/20 Cost: 528.952271\n",
            "Epoch   10/20 Cost: 338.703308\n",
            "Epoch   11/20 Cost: 216.940033\n",
            "Epoch   12/20 Cost: 139.006989\n",
            "Epoch   13/20 Cost: 89.125130\n",
            "Epoch   14/20 Cost: 57.196075\n",
            "Epoch   15/20 Cost: 36.757317\n",
            "Epoch   16/20 Cost: 23.672049\n",
            "Epoch   17/20 Cost: 15.293401\n",
            "Epoch   18/20 Cost: 9.927165\n",
            "Epoch   19/20 Cost: 6.488902\n"
          ]
        }
      ]
    },
    {
      "cell_type": "code",
      "source": [
        "model = MultivariateLinearRegressionModel()\n",
        "optimizer = optim.SGD(model.parameters(), lr=1e-1)"
      ],
      "metadata": {
        "id": "YweUMmTK_I6c"
      },
      "execution_count": 27,
      "outputs": []
    },
    {
      "cell_type": "code",
      "source": [
        "train(model, optimizer, norm_x_train, y_train, loss_func='MSE', regularization=True)"
      ],
      "metadata": {
        "colab": {
          "base_uri": "https://localhost:8080/"
        },
        "id": "shB5upwe_Kxb",
        "outputId": "54be3617-457e-47a8-f43d-68c658d4a82f"
      },
      "execution_count": 28,
      "outputs": [
        {
          "output_type": "stream",
          "name": "stdout",
          "text": [
            "Epoch    0/20 Cost: 29632.869141\n",
            "Epoch    1/20 Cost: 18897.535156\n",
            "Epoch    2/20 Cost: 12122.802734\n",
            "Epoch    3/20 Cost: 7814.004395\n",
            "Epoch    4/20 Cost: 5064.236816\n",
            "Epoch    5/20 Cost: 3306.669922\n",
            "Epoch    6/20 Cost: 2182.488525\n",
            "Epoch    7/20 Cost: 1463.201782\n",
            "Epoch    8/20 Cost: 1002.911377\n",
            "Epoch    9/20 Cost: 708.338318\n",
            "Epoch   10/20 Cost: 519.812378\n",
            "Epoch   11/20 Cost: 399.154022\n",
            "Epoch   12/20 Cost: 321.930054\n",
            "Epoch   13/20 Cost: 272.503662\n",
            "Epoch   14/20 Cost: 240.868011\n",
            "Epoch   15/20 Cost: 220.618408\n",
            "Epoch   16/20 Cost: 207.656235\n",
            "Epoch   17/20 Cost: 199.357986\n",
            "Epoch   18/20 Cost: 194.044785\n",
            "Epoch   19/20 Cost: 190.642242\n"
          ]
        }
      ]
    }
  ]
}
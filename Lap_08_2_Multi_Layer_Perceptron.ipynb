{
  "nbformat": 4,
  "nbformat_minor": 0,
  "metadata": {
    "colab": {
      "name": "Lap-08-2  Multi Layer Perceptron.ipynb",
      "provenance": [],
      "collapsed_sections": [],
      "authorship_tag": "ABX9TyPUNMMifiGh8YU55pc91CMA",
      "include_colab_link": true
    },
    "kernelspec": {
      "name": "python3",
      "display_name": "Python 3"
    },
    "language_info": {
      "name": "python"
    }
  },
  "cells": [
    {
      "cell_type": "markdown",
      "metadata": {
        "id": "view-in-github",
        "colab_type": "text"
      },
      "source": [
        "<a href=\"https://colab.research.google.com/github/Jeong-Yunmi/pytorch-tutorial/blob/main/Lap_08_2_Multi_Layer_Perceptron.ipynb\" target=\"_parent\"><img src=\"https://colab.research.google.com/assets/colab-badge.svg\" alt=\"Open In Colab\"/></a>"
      ]
    },
    {
      "cell_type": "code",
      "execution_count": 1,
      "metadata": {
        "id": "wN2ngVUtCBtl"
      },
      "outputs": [],
      "source": [
        "import torch\n",
        "import torchvision.datasets as dsets\n",
        "import torchvision.transforms as transforms\n",
        "import warnings\n",
        "warnings.filterwarnings('ignore')"
      ]
    },
    {
      "cell_type": "code",
      "source": [
        "device = 'cuda' if torch.cuda.is_available() else 'cpu'\n",
        "torch.manual_seed(777)\n",
        "if device == 'cuda':\n",
        "    torch.cuda.manual_seed_all(777)"
      ],
      "metadata": {
        "id": "T6DaFDqeCFPO"
      },
      "execution_count": 2,
      "outputs": []
    },
    {
      "cell_type": "code",
      "source": [
        "learning_rate = 0.5\n",
        "batch_size = 16"
      ],
      "metadata": {
        "id": "bop-H3ITCHhY"
      },
      "execution_count": 3,
      "outputs": []
    },
    {
      "cell_type": "code",
      "source": [
        "mnist_train = dsets.MNIST(root='MNIST_data/',\n",
        "                          train=True,\n",
        "                          transform=transforms.ToTensor(),\n",
        "                          download=True)\n",
        "\n",
        "mnist_test = dsets.MNIST(root='MNIST_data/',\n",
        "                         train=False,\n",
        "                         transform=transforms.ToTensor(),\n",
        "                         download=True)"
      ],
      "metadata": {
        "id": "Pn7lErXsCImX"
      },
      "execution_count": 8,
      "outputs": []
    },
    {
      "cell_type": "code",
      "source": [
        "data_loader = torch.utils.data.DataLoader(dataset=mnist_train,\n",
        "                                          batch_size=batch_size,\n",
        "                                          shuffle=True,\n",
        "                                          drop_last=True)"
      ],
      "metadata": {
        "id": "gtMQmNQ8CJ_H"
      },
      "execution_count": 10,
      "outputs": []
    },
    {
      "cell_type": "code",
      "source": [
        "w1 = torch.nn.Parameter(torch.Tensor(784, 30)).to(device)\n",
        "b1 = torch.nn.Parameter(torch.Tensor(30)).to(device)\n",
        "w2 = torch.nn.Parameter(torch.Tensor(30, 10)).to(device)\n",
        "b2 = torch.nn.Parameter(torch.Tensor(10)).to(device)\n",
        "\n",
        "torch.nn.init.normal_(w1)\n",
        "torch.nn.init.normal_(b1)\n",
        "torch.nn.init.normal_(w2)\n",
        "torch.nn.init.normal_(b2)"
      ],
      "metadata": {
        "colab": {
          "base_uri": "https://localhost:8080/"
        },
        "id": "vvgRe5hnCT41",
        "outputId": "63b7b836-a71f-493e-9078-0ac999612f0a"
      },
      "execution_count": 11,
      "outputs": [
        {
          "output_type": "execute_result",
          "data": {
            "text/plain": [
              "Parameter containing:\n",
              "tensor([ 0.3078, -1.9857,  1.0512,  1.5122, -1.0199, -0.7402, -1.3111,  0.6142,\n",
              "        -0.6474,  0.1758], requires_grad=True)"
            ]
          },
          "metadata": {},
          "execution_count": 11
        }
      ]
    },
    {
      "cell_type": "code",
      "source": [
        "def sigmoid(x):\n",
        "    return 1.0 / (1.0 + torch.exp(-x))\n",
        "\n",
        "def sigmoid_prime(x):\n",
        "    return sigmoid(x) * (1 - sigmoid(x))"
      ],
      "metadata": {
        "id": "p6OIFG5UCYHa"
      },
      "execution_count": 13,
      "outputs": []
    },
    {
      "cell_type": "code",
      "source": [
        "X_test = mnist_test.test_data.view(-1, 28 * 28).float().to(device)[:1000]\n",
        "Y_test = mnist_test.test_labels.to(device)[:1000]"
      ],
      "metadata": {
        "id": "lTKuU3IwCZYD"
      },
      "execution_count": 14,
      "outputs": []
    },
    {
      "cell_type": "code",
      "source": [
        "i = 0\n",
        "while not i == 10000:\n",
        "    for X, Y in data_loader:\n",
        "        i += 1\n",
        "\n",
        "        # forward\n",
        "        X = X.view(-1, 28 * 28).to(device)\n",
        "        Y = torch.zeros((batch_size, 10)).scatter_(1, Y.unsqueeze(1), 1).to(device)    # one-hot\n",
        "        l1 = torch.add(torch.matmul(X, w1), b1)     # Linear layer 1\n",
        "        a1 = sigmoid(l1)\n",
        "        l2 = torch.add(torch.matmul(a1, w2), b2)    # Linear layer 2\n",
        "        y_pred = sigmoid(l2)\n",
        "\n",
        "        diff = y_pred - Y\n",
        "\n",
        "        # Back prop (chain rule)\n",
        "        d_l2 = diff * sigmoid_prime(l2)\n",
        "        d_b2 = d_l2\n",
        "        d_w2 = torch.matmul(torch.transpose(a1, 0, 1), d_l2)\n",
        "\n",
        "        d_a1 = torch.matmul(d_l2, torch.transpose(w2, 0, 1))\n",
        "        d_l1 = d_a1 * sigmoid_prime(l1)\n",
        "        d_b1 = d_l1\n",
        "        d_w1 = torch.matmul(torch.transpose(X, 0, 1), d_l1)\n",
        "\n",
        "        w1 = w1 - learning_rate * d_w1\n",
        "        b1 = b1 - learning_rate * torch.mean(d_b1, 0)\n",
        "        w2 = w2 - learning_rate * d_w2\n",
        "        b2 = b2 - learning_rate * torch.mean(d_b2, 0)\n",
        "\n",
        "        if i % 1000 == 0:\n",
        "            l1 = torch.add(torch.matmul(X_test, w1), b1)\n",
        "            a1 = sigmoid(l1)\n",
        "            l2 = torch.add(torch.matmul(a1, w2), b2)\n",
        "            y_pred = sigmoid(l2)\n",
        "            acct_mat = torch.argmax(y_pred, 1) == Y_test\n",
        "            acct_res = acct_mat.sum()\n",
        "            print(acct_res.item())\n",
        "\n",
        "        if i == 10000:\n",
        "            break"
      ],
      "metadata": {
        "colab": {
          "base_uri": "https://localhost:8080/"
        },
        "id": "c0cP0rNbCcXz",
        "outputId": "0d231086-6ce6-412b-de8a-cea713c20b21"
      },
      "execution_count": 15,
      "outputs": [
        {
          "output_type": "stream",
          "name": "stdout",
          "text": [
            "820\n",
            "880\n",
            "887\n",
            "894\n",
            "914\n",
            "906\n",
            "906\n",
            "907\n",
            "903\n",
            "920\n"
          ]
        }
      ]
    }
  ]
}
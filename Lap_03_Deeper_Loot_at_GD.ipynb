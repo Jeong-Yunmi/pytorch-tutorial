{
  "nbformat": 4,
  "nbformat_minor": 0,
  "metadata": {
    "colab": {
      "name": "Lap-03 Deeper Loot at GD.ipynb",
      "provenance": [],
      "collapsed_sections": [],
      "authorship_tag": "ABX9TyNtwv/+4wV7XzXnsWt4QKHT",
      "include_colab_link": true
    },
    "kernelspec": {
      "name": "python3",
      "display_name": "Python 3"
    },
    "language_info": {
      "name": "python"
    }
  },
  "cells": [
    {
      "cell_type": "markdown",
      "metadata": {
        "id": "view-in-github",
        "colab_type": "text"
      },
      "source": [
        "<a href=\"https://colab.research.google.com/github/Jeong-Yunmi/pytorch-tutorial/blob/main/Lap_03_Deeper_Loot_at_GD.ipynb\" target=\"_parent\"><img src=\"https://colab.research.google.com/assets/colab-badge.svg\" alt=\"Open In Colab\"/></a>"
      ]
    },
    {
      "cell_type": "code",
      "execution_count": 1,
      "metadata": {
        "colab": {
          "base_uri": "https://localhost:8080/"
        },
        "id": "g4CBugUhwfr2",
        "outputId": "205640a2-df20-406b-81bd-697c31be00d1"
      },
      "outputs": [
        {
          "output_type": "execute_result",
          "data": {
            "text/plain": [
              "<torch._C.Generator at 0x7f4e6f8ff8f0>"
            ]
          },
          "metadata": {},
          "execution_count": 1
        }
      ],
      "source": [
        "import matplotlib.pyplot as plt\n",
        "import numpy as np\n",
        "import torch\n",
        "import torch.nn as nn\n",
        "import torch.nn.functional as F\n",
        "import torch.optim as optim\n",
        "torch.manual_seed(1)"
      ]
    },
    {
      "cell_type": "code",
      "source": [
        "x_train = torch.FloatTensor([[1], [2], [3]])\n",
        "y_train = torch.FloatTensor([[1], [2], [3]])\n",
        "\n",
        "plt.scatter(x_train, y_train)\n",
        "\n",
        "xs = np.linspace(1, 3, 1000)\n",
        "plt.plot(xs, xs)"
      ],
      "metadata": {
        "colab": {
          "base_uri": "https://localhost:8080/",
          "height": 283
        },
        "id": "DfYS70oowwbq",
        "outputId": "896cd7ff-b5bf-44f4-e6e9-2bb6cafb0b64"
      },
      "execution_count": 2,
      "outputs": [
        {
          "output_type": "execute_result",
          "data": {
            "text/plain": [
              "[<matplotlib.lines.Line2D at 0x7f4e6e962410>]"
            ]
          },
          "metadata": {},
          "execution_count": 2
        },
        {
          "output_type": "display_data",
          "data": {
            "text/plain": [
              "<Figure size 432x288 with 1 Axes>"
            ],
            "image/png": "[encoded data removed]"
          },
          "metadata": {
            "needs_background": "light"
          }
        }
      ]
    },
    {
      "cell_type": "code",
      "source": [
        "W_l = np.linspace(-5, 7, 1000)\n",
        "b_l = np.random.rand(1000)-0.5\n",
        "print(b_l[:4])\n",
        "cost_l = []\n",
        "for W in W_l:\n",
        "    hypothesis = W * x_train + b_l\n",
        "    cost = torch.mean((hypothesis - y_train) ** 2)\n",
        "\n",
        "    cost_l.append(cost.item())"
      ],
      "metadata": {
        "colab": {
          "base_uri": "https://localhost:8080/"
        },
        "id": "WldrEtpWw2Le",
        "outputId": "7ce6566a-1032-4926-e45a-90423e50c270"
      },
      "execution_count": 3,
      "outputs": [
        {
          "output_type": "stream",
          "name": "stdout",
          "text": [
            "[-0.48860543  0.45492194 -0.23396246 -0.31723513]\n"
          ]
        }
      ]
    },
    {
      "cell_type": "code",
      "source": [
        "plt.plot(W_l, cost_l)\n",
        "plt.xlabel('$W$')\n",
        "plt.ylabel('Cost')\n",
        "plt.show()"
      ],
      "metadata": {
        "colab": {
          "base_uri": "https://localhost:8080/",
          "height": 284
        },
        "id": "nRpCaEU0w5st",
        "outputId": "23f66b3d-fedb-4849-cff8-98330929855b"
      },
      "execution_count": 4,
      "outputs": [
        {
          "output_type": "display_data",
          "data": {
            "text/plain": [
              "<Figure size 432x288 with 1 Axes>"
            ],
            "image/png": "[encoded data removed]"
          },
          "metadata": {
            "needs_background": "light"
          }
        }
      ]
    },
    {
      "cell_type": "code",
      "source": [
        "W = 0\n",
        "b = 0\n",
        "gradient_w = torch.sum((W * x_train + b - y_train) * x_train)\n",
        "gradient_b = torch.sum(W * x_train + b - y_train)\n",
        "print(gradient_w)\n",
        "print(gradient_b)"
      ],
      "metadata": {
        "colab": {
          "base_uri": "https://localhost:8080/"
        },
        "id": "UxKVWpFaw7fP",
        "outputId": "7388a78d-164d-4c60-9d31-f8b151696d10"
      },
      "execution_count": 5,
      "outputs": [
        {
          "output_type": "stream",
          "name": "stdout",
          "text": [
            "tensor(-14.)\n",
            "tensor(-6.)\n"
          ]
        }
      ]
    },
    {
      "cell_type": "code",
      "source": [
        "lr = 0.1\n",
        "W = W - lr * gradient_w\n",
        "b = b - lr * gradient_b\n",
        "print(W)\n",
        "print(b)"
      ],
      "metadata": {
        "colab": {
          "base_uri": "https://localhost:8080/"
        },
        "id": "IN2NicUGw9Oh",
        "outputId": "31a2b18f-ef70-4d0c-b068-396e093532ab"
      },
      "execution_count": 6,
      "outputs": [
        {
          "output_type": "stream",
          "name": "stdout",
          "text": [
            "tensor(1.4000)\n",
            "tensor(0.6000)\n"
          ]
        }
      ]
    },
    {
      "cell_type": "code",
      "source": [
        "x_train = torch.FloatTensor([[1], [2], [3]])\n",
        "y_train = torch.FloatTensor([[1], [2], [3]])\n",
        "\n",
        "W = torch.zeros(1)\n",
        "b = torch.zeros(1)\n",
        "\n",
        "lr = 0.1\n",
        "\n",
        "nb_epochs = 100\n",
        "for epoch in range(nb_epochs + 1):\n",
        "    hypothesis = x_train * W + b\n",
        "\n",
        "    cost = torch.mean((hypothesis - y_train) ** 2)\n",
        "    gradient_W = torch.sum((W * x_train + b - y_train) * x_train)\n",
        "    gradient_b = torch.sum(W * x_train + b - y_train)\n",
        "\n",
        "    if epoch % 10 == 0:\n",
        "        print('Epoch {:4d}/{} W: {:.3f}, b: {:.3f}, Cost: {:.6f}'.format(\n",
        "            epoch, nb_epochs, W.item(), b.item(), cost.item()\n",
        "        ))\n",
        "\n",
        "    W -= lr * gradient_W\n",
        "    b -= lr * gradient_b"
      ],
      "metadata": {
        "colab": {
          "base_uri": "https://localhost:8080/"
        },
        "id": "4W9_H3eSw_su",
        "outputId": "8f6e8e80-f571-416c-d1e2-286ef5705d1d"
      },
      "execution_count": 7,
      "outputs": [
        {
          "output_type": "stream",
          "name": "stdout",
          "text": [
            "Epoch    0/100 W: 0.000, b: 0.000, Cost: 4.666667\n",
            "Epoch   10/100 W: 0.874, b: 0.249, Cost: 0.010637\n",
            "Epoch   20/100 W: 0.922, b: 0.177, Cost: 0.004486\n",
            "Epoch   30/100 W: 0.946, b: 0.122, Cost: 0.002152\n",
            "Epoch   40/100 W: 0.963, b: 0.085, Cost: 0.001032\n",
            "Epoch   50/100 W: 0.974, b: 0.059, Cost: 0.000495\n",
            "Epoch   60/100 W: 0.982, b: 0.041, Cost: 0.000238\n",
            "Epoch   70/100 W: 0.988, b: 0.028, Cost: 0.000114\n",
            "Epoch   80/100 W: 0.991, b: 0.020, Cost: 0.000055\n",
            "Epoch   90/100 W: 0.994, b: 0.014, Cost: 0.000026\n",
            "Epoch  100/100 W: 0.996, b: 0.009, Cost: 0.000013\n"
          ]
        }
      ]
    },
    {
      "cell_type": "code",
      "source": [
        "x_train = torch.FloatTensor([[1], [2], [3]])\n",
        "y_train = torch.FloatTensor([[1], [2], [3]])\n",
        "\n",
        "W = torch.zeros(1, requires_grad=True)\n",
        "b = torch.zeros(1, requires_grad=True)\n",
        "\n",
        "optimizer = optim.SGD([W, b], lr=0.1)\n",
        "\n",
        "nb_epochs = 100\n",
        "for epoch in range(nb_epochs + 1):\n",
        "    hypothesis = x_train * W + b\n",
        "\n",
        "    cost = torch.mean((hypothesis - y_train) ** 2)\n",
        "\n",
        "    if epoch % 10 == 0:\n",
        "        print('Epoch {:4d}/{} W: {:.3f}, b: {:.3f}, Cost: {:.6f}'.format(\n",
        "            epoch, nb_epochs, W.item(), b.item(), cost.item()\n",
        "        ))\n",
        "\n",
        "    optimizer.zero_grad()\n",
        "    cost.backward()\n",
        "    optimizer.step()"
      ],
      "metadata": {
        "colab": {
          "base_uri": "https://localhost:8080/"
        },
        "id": "PLqVLDKHxGve",
        "outputId": "ecd12ba5-376d-46b4-dfde-8eef9c263d15"
      },
      "execution_count": 8,
      "outputs": [
        {
          "output_type": "stream",
          "name": "stdout",
          "text": [
            "Epoch    0/100 W: 0.000, b: 0.000, Cost: 4.666667\n",
            "Epoch   10/100 W: 0.873, b: 0.289, Cost: 0.011979\n",
            "Epoch   20/100 W: 0.900, b: 0.227, Cost: 0.007363\n",
            "Epoch   30/100 W: 0.922, b: 0.178, Cost: 0.004526\n",
            "Epoch   40/100 W: 0.939, b: 0.139, Cost: 0.002782\n",
            "Epoch   50/100 W: 0.952, b: 0.109, Cost: 0.001710\n",
            "Epoch   60/100 W: 0.962, b: 0.086, Cost: 0.001051\n",
            "Epoch   70/100 W: 0.970, b: 0.067, Cost: 0.000646\n",
            "Epoch   80/100 W: 0.977, b: 0.053, Cost: 0.000397\n",
            "Epoch   90/100 W: 0.982, b: 0.041, Cost: 0.000244\n",
            "Epoch  100/100 W: 0.986, b: 0.032, Cost: 0.000150\n"
          ]
        }
      ]
    },
    {
      "cell_type": "code",
      "source": [
        ""
      ],
      "metadata": {
        "id": "SF32H2uxxOqT"
      },
      "execution_count": null,
      "outputs": []
    }
  ]
}